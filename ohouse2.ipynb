{
 "cells": [
  {
   "cell_type": "code",
   "execution_count": 1,
   "id": "bbd626fa-cfcb-4ba2-8420-5c2d6aaba6f0",
   "metadata": {},
   "outputs": [],
   "source": [
    "import pyautogui as pag\n",
    "import numpy as np\n",
    "import mss, cv2, win32gui, win32ui, win32con, pdb, time\n",
    "import matplotlib.pyplot as plt\n",
    "import copy"
   ]
  },
  {
   "cell_type": "code",
   "execution_count": 370,
   "id": "030a5fa2-92b0-4359-be7d-b2ced9e9ae69",
   "metadata": {},
   "outputs": [
    {
     "name": "stdout",
     "output_type": "stream",
     "text": [
      "Point(x=250, y=835)\n"
     ]
    }
   ],
   "source": [
    "pos = pag.position()\n",
    "print(pos)"
   ]
  },
  {
   "cell_type": "code",
   "execution_count": 9,
   "id": "8dcf1017-75ce-4b5f-b027-35fe67cf6f79",
   "metadata": {},
   "outputs": [],
   "source": [
    "def check_num(color):\n",
    "    global color_list\n",
    "    color_list = np.array([[255, 246, 222], # 0 \n",
    "                           [255, 254, 255], # 2\n",
    "                           [255, 236, 170], # 4\n",
    "                           [255, 229, 143], # 8\n",
    "                           [255, 216,  87], # 16\n",
    "                           [241, 183,   0], # 32\n",
    "                           [204, 140,   1], # 64\n",
    "                           [ 60, 240, 141], # 128\n",
    "                           [ 32, 232, 109], # 256z\n",
    "                           [ 26, 222,  77], # 512\n",
    "                           [121, 225, 255], # 1024\n",
    "                           [ 13, 201, 255], # 2048 \n",
    "                           [  1, 151, 255]]) # 4096\n",
    "    color = color.flatten()\n",
    "    # loc = np.where((abs(color_list[:, 0] - color[0]) < 3) * \\\n",
    "    #                (abs(color_list[:, 1] - color[1]) < 3) * \\\n",
    "    #                (abs(color_list[:, 2] - color[2]) < 3))[0]\n",
    "    \n",
    "    loc = np.argmin(np.sum((color_list - color)**2, axis=1))\n",
    "    return loc.item()\n",
    "\n",
    "def get_tile_array(tile_xpos, tile_ypos):\n",
    "    tile_array = np.zeros((4, 4))\n",
    "    for ii in range(4):\n",
    "        for jj in range(4):\n",
    "            with mss.mss() as sct:\n",
    "                color = np.array(sct.grab(\n",
    "                    {'left':tile_xpos[ii], 'top':tile_ypos[jj], \n",
    "                     'width':1, 'height':1}))[:, :, :3]\n",
    "                pass\n",
    "            # print(color)\n",
    "            tile_array[jj, ii] = check_num(color)\n",
    "    return tile_array\n",
    "\n",
    "def after_moving(tile_array, direction='up'):\n",
    "    if direction == 'up':\n",
    "        tile_array0 = copy.deepcopy(tile_array)\n",
    "    if direction == 'down':\n",
    "        tile_array0 = copy.deepcopy(tile_array[::-1])\n",
    "    if direction == 'right':\n",
    "        tile_array0 = copy.deepcopy(tile_array.T[::-1])\n",
    "    if direction == 'left':\n",
    "        tile_array0 = copy.deepcopy(tile_array.T)\n",
    "\n",
    "    templet = np.zeros((4, 4))\n",
    "    for i in range(4): # summing\n",
    "        part = tile_array0[:, i]\n",
    "        part0 = part[part > 0]\n",
    "        for j in range(len(part0)-1):\n",
    "            if part0[j] == part0[j+1]:\n",
    "                part0[j] += 1\n",
    "                part0[j+1] = 0\n",
    "        part1 = part0[part0 > 0]\n",
    "        templet[:len(part1), i] = part1\n",
    "\n",
    "    if direction == 'down':\n",
    "        templet = templet[::-1]\n",
    "    if direction == 'right':\n",
    "        templet = templet[::-1].T\n",
    "    if direction == 'left':\n",
    "        templet = templet.T\n",
    "    return templet\n",
    "\n",
    "def evaluation(after_tile_array, table):\n",
    "    # print(table)\n",
    "    dum = after_tile_array\n",
    "    # dum = np.where(after_tile_array==0, 2, after_tile_array)\n",
    "    return np.sum(table*(2**dum))\n",
    "\n",
    "def find_direct(tile_array, level):\n",
    "    score = 0\n",
    "    direct = 'down'\n",
    "  \n",
    "    for try_dir in ['left', 'up', 'right']:\n",
    "        after = after_moving(tile_array, direction=try_dir)\n",
    "        if (after == tile_array).all(): \n",
    "            print('a')\n",
    "            continue\n",
    "        else:\n",
    "            # if tile_array[0, 0] == 0:\n",
    "            #     return try_dir, 10 \n",
    "            if level <= 2:\n",
    "                direct_sub, score_sub = find_direct(after, level+1)\n",
    "            else:\n",
    "                new_score = evaluation(after, table)\n",
    "                return try_dir, new_score\n",
    "        if (score < score_sub):# and (direct_sub != 'down'):\n",
    "            score = score_sub\n",
    "            direct = try_dir\n",
    "    return direct, score\n",
    "\n",
    "def drag(direction, delay=1e-3):\n",
    "    pag.moveTo(220, 779)\n",
    "    delta = 30\n",
    "    if direction=='up': pag.drag(0, -delta, delay, button='left')\n",
    "    if direction=='down': pag.drag(0, delta, delay, button='left')    \n",
    "    if direction=='right': pag.drag(delta, 0, delay, button='left')\n",
    "    if direction=='left': pag.drag(-delta, 0, delay, button='left')"
   ]
  },
  {
   "cell_type": "code",
   "execution_count": 3,
   "id": "7a0b70c3-bbfd-4fef-ad8b-f8020af313ef",
   "metadata": {},
   "outputs": [],
   "source": [
    "challenge_mode_pos = [220, 719]\n",
    "practice_mode_pos = [220, 779]\n",
    "tile_xpos = np.arange(4)*100 + 50\n",
    "tile_ypos = np.arange(4, dtype=int)*100 + 550\n",
    "\n",
    "global table\n",
    "table0 = np.arange(4*4)[::-1].reshape(4, 4)\n",
    "table = 2.**(table0)\n",
    "# table = table0**2\n",
    "table[1] = table[1][::-1]\n",
    "table[3] = table[3][::-1]\n",
    "# table[0, 0] = table[0, 0]*1e4\n",
    "# table = table * 10**np.arange(4)[::-1, None]\n",
    "\n",
    "# table = np.array([[10,8,7,6.5],\n",
    "#  [.5,.7,1,3],\n",
    "#  [-.5,-1.5,-1.8,-2],\n",
    "#  [-3.8,-3.7,-3.5,-3]])\n",
    "\n",
    "aa = 2**np.arange(4)[::-1]\n",
    "table = aa*aa[:, None]"
   ]
  },
  {
   "cell_type": "code",
   "execution_count": 5,
   "id": "8870be50-bb72-48fd-8f0f-406288cc803f",
   "metadata": {
    "scrolled": true
   },
   "outputs": [
    {
     "ename": "FailSafeException",
     "evalue": "PyAutoGUI fail-safe triggered from mouse moving to a corner of the screen. To disable this fail-safe, set pyautogui.FAILSAFE to False. DISABLING FAIL-SAFE IS NOT RECOMMENDED.",
     "output_type": "error",
     "traceback": [
      "\u001b[1;31m---------------------------------------------------------------------------\u001b[0m",
      "\u001b[1;31mFailSafeException\u001b[0m                         Traceback (most recent call last)",
      "Cell \u001b[1;32mIn[5], line 9\u001b[0m\n\u001b[0;32m      7\u001b[0m tile_array \u001b[38;5;241m=\u001b[39m get_tile_array(tile_xpos, tile_ypos)\n\u001b[0;32m      8\u001b[0m final_dir, score \u001b[38;5;241m=\u001b[39m find_direct(tile_array, \u001b[38;5;241m0\u001b[39m)\n\u001b[1;32m----> 9\u001b[0m \u001b[43mdrag\u001b[49m\u001b[43m(\u001b[49m\u001b[43mfinal_dir\u001b[49m\u001b[43m)\u001b[49m\n\u001b[0;32m     10\u001b[0m \u001b[38;5;66;03m# if (final_dir == 'right') and \\\u001b[39;00m\n\u001b[0;32m     11\u001b[0m \u001b[38;5;66;03m#     ((after_moving(tile_array, 'right'))[0, 0] == 0):\u001b[39;00m\n\u001b[0;32m     12\u001b[0m \u001b[38;5;66;03m#     drag('left')\u001b[39;00m\n\u001b[0;32m     13\u001b[0m time\u001b[38;5;241m.\u001b[39msleep(\u001b[38;5;241m0.2\u001b[39m)\n",
      "Cell \u001b[1;32mIn[2], line 97\u001b[0m, in \u001b[0;36mdrag\u001b[1;34m(direction, delay)\u001b[0m\n\u001b[0;32m     95\u001b[0m delta \u001b[38;5;241m=\u001b[39m \u001b[38;5;241m30\u001b[39m\n\u001b[0;32m     96\u001b[0m \u001b[38;5;28;01mif\u001b[39;00m direction\u001b[38;5;241m==\u001b[39m\u001b[38;5;124m'\u001b[39m\u001b[38;5;124mup\u001b[39m\u001b[38;5;124m'\u001b[39m: pag\u001b[38;5;241m.\u001b[39mdrag(\u001b[38;5;241m0\u001b[39m, \u001b[38;5;241m-\u001b[39mdelta, delay, button\u001b[38;5;241m=\u001b[39m\u001b[38;5;124m'\u001b[39m\u001b[38;5;124mleft\u001b[39m\u001b[38;5;124m'\u001b[39m)\n\u001b[1;32m---> 97\u001b[0m \u001b[38;5;28;01mif\u001b[39;00m direction\u001b[38;5;241m==\u001b[39m\u001b[38;5;124m'\u001b[39m\u001b[38;5;124mdown\u001b[39m\u001b[38;5;124m'\u001b[39m: \u001b[43mpag\u001b[49m\u001b[38;5;241;43m.\u001b[39;49m\u001b[43mdrag\u001b[49m\u001b[43m(\u001b[49m\u001b[38;5;241;43m0\u001b[39;49m\u001b[43m,\u001b[49m\u001b[43m \u001b[49m\u001b[43mdelta\u001b[49m\u001b[43m,\u001b[49m\u001b[43m \u001b[49m\u001b[43mdelay\u001b[49m\u001b[43m,\u001b[49m\u001b[43m \u001b[49m\u001b[43mbutton\u001b[49m\u001b[38;5;241;43m=\u001b[39;49m\u001b[38;5;124;43m'\u001b[39;49m\u001b[38;5;124;43mleft\u001b[39;49m\u001b[38;5;124;43m'\u001b[39;49m\u001b[43m)\u001b[49m    \n\u001b[0;32m     98\u001b[0m \u001b[38;5;28;01mif\u001b[39;00m direction\u001b[38;5;241m==\u001b[39m\u001b[38;5;124m'\u001b[39m\u001b[38;5;124mright\u001b[39m\u001b[38;5;124m'\u001b[39m: pag\u001b[38;5;241m.\u001b[39mdrag(delta, \u001b[38;5;241m0\u001b[39m, delay, button\u001b[38;5;241m=\u001b[39m\u001b[38;5;124m'\u001b[39m\u001b[38;5;124mleft\u001b[39m\u001b[38;5;124m'\u001b[39m)\n\u001b[0;32m     99\u001b[0m \u001b[38;5;28;01mif\u001b[39;00m direction\u001b[38;5;241m==\u001b[39m\u001b[38;5;124m'\u001b[39m\u001b[38;5;124mleft\u001b[39m\u001b[38;5;124m'\u001b[39m: pag\u001b[38;5;241m.\u001b[39mdrag(\u001b[38;5;241m-\u001b[39mdelta, \u001b[38;5;241m0\u001b[39m, delay, button\u001b[38;5;241m=\u001b[39m\u001b[38;5;124m'\u001b[39m\u001b[38;5;124mleft\u001b[39m\u001b[38;5;124m'\u001b[39m)\n",
      "File \u001b[1;32m~\\miniforge3\\Lib\\site-packages\\pyautogui\\__init__.py:593\u001b[0m, in \u001b[0;36m_genericPyAutoGUIChecks.<locals>.wrapper\u001b[1;34m(*args, **kwargs)\u001b[0m\n\u001b[0;32m    591\u001b[0m \u001b[38;5;129m@functools\u001b[39m\u001b[38;5;241m.\u001b[39mwraps(wrappedFunction)\n\u001b[0;32m    592\u001b[0m \u001b[38;5;28;01mdef\u001b[39;00m \u001b[38;5;21mwrapper\u001b[39m(\u001b[38;5;241m*\u001b[39margs, \u001b[38;5;241m*\u001b[39m\u001b[38;5;241m*\u001b[39mkwargs):\n\u001b[1;32m--> 593\u001b[0m     \u001b[43mfailSafeCheck\u001b[49m\u001b[43m(\u001b[49m\u001b[43m)\u001b[49m\n\u001b[0;32m    594\u001b[0m     returnVal \u001b[38;5;241m=\u001b[39m wrappedFunction(\u001b[38;5;241m*\u001b[39margs, \u001b[38;5;241m*\u001b[39m\u001b[38;5;241m*\u001b[39mkwargs)\n\u001b[0;32m    595\u001b[0m     _handlePause(kwargs\u001b[38;5;241m.\u001b[39mget(\u001b[38;5;124m\"\u001b[39m\u001b[38;5;124m_pause\u001b[39m\u001b[38;5;124m\"\u001b[39m, \u001b[38;5;28;01mTrue\u001b[39;00m))\n",
      "File \u001b[1;32m~\\miniforge3\\Lib\\site-packages\\pyautogui\\__init__.py:1734\u001b[0m, in \u001b[0;36mfailSafeCheck\u001b[1;34m()\u001b[0m\n\u001b[0;32m   1732\u001b[0m \u001b[38;5;28;01mdef\u001b[39;00m \u001b[38;5;21mfailSafeCheck\u001b[39m():\n\u001b[0;32m   1733\u001b[0m     \u001b[38;5;28;01mif\u001b[39;00m FAILSAFE \u001b[38;5;129;01mand\u001b[39;00m \u001b[38;5;28mtuple\u001b[39m(position()) \u001b[38;5;129;01min\u001b[39;00m FAILSAFE_POINTS:\n\u001b[1;32m-> 1734\u001b[0m         \u001b[38;5;28;01mraise\u001b[39;00m FailSafeException(\n\u001b[0;32m   1735\u001b[0m             \u001b[38;5;124m\"\u001b[39m\u001b[38;5;124mPyAutoGUI fail-safe triggered from mouse moving to a corner of the screen. To disable this fail-safe, set pyautogui.FAILSAFE to False. DISABLING FAIL-SAFE IS NOT RECOMMENDED.\u001b[39m\u001b[38;5;124m\"\u001b[39m\n\u001b[0;32m   1736\u001b[0m         )\n",
      "\u001b[1;31mFailSafeException\u001b[0m: PyAutoGUI fail-safe triggered from mouse moving to a corner of the screen. To disable this fail-safe, set pyautogui.FAILSAFE to False. DISABLING FAIL-SAFE IS NOT RECOMMENDED."
     ]
    }
   ],
   "source": [
    "mode = 'challenge'\n",
    "mode = 'practice'\n",
    "start_pos = challenge_mode_pos if mode =='challenge' else practice_mode_pos\n",
    "pag.click(x = start_pos[0], y = start_pos[1])\n",
    "time.sleep(2)\n",
    "while True:\n",
    "    tile_array = get_tile_array(tile_xpos, tile_ypos)\n",
    "    final_dir, score = find_direct(tile_array, 0)\n",
    "    drag(final_dir)\n",
    "    # if (final_dir == 'right') and \\\n",
    "    #     ((after_moving(tile_array, 'right'))[0, 0] == 0):\n",
    "    #     drag('left')\n",
    "    time.sleep(0.2)"
   ]
  },
  {
   "cell_type": "code",
   "execution_count": 110,
   "id": "ae78817c-ac45-4ccd-aade-3b57e5a6907b",
   "metadata": {
    "scrolled": true
   },
   "outputs": [
    {
     "name": "stdout",
     "output_type": "stream",
     "text": [
      " up 1266430.02.0"
     ]
    },
    {
     "ename": "KeyboardInterrupt",
     "evalue": "",
     "output_type": "error",
     "traceback": [
      "\u001b[1;31m---------------------------------------------------------------------------\u001b[0m",
      "\u001b[1;31mKeyboardInterrupt\u001b[0m                         Traceback (most recent call last)",
      "Cell \u001b[1;32mIn[110], line 2\u001b[0m\n\u001b[0;32m      1\u001b[0m \u001b[38;5;28;01mwhile\u001b[39;00m \u001b[38;5;28;01mTrue\u001b[39;00m:\n\u001b[1;32m----> 2\u001b[0m     tile_array \u001b[38;5;241m=\u001b[39m \u001b[43mget_tile_array\u001b[49m\u001b[43m(\u001b[49m\u001b[43mtile_xpos\u001b[49m\u001b[43m,\u001b[49m\u001b[43m \u001b[49m\u001b[43mtile_ypos\u001b[49m\u001b[43m)\u001b[49m\n\u001b[0;32m      3\u001b[0m     final_dir, score \u001b[38;5;241m=\u001b[39m find_direct(tile_array, \u001b[38;5;241m0\u001b[39m)\n\u001b[0;32m      4\u001b[0m     \u001b[38;5;28mprint\u001b[39m(\u001b[38;5;124m\"\u001b[39m\u001b[38;5;130;01m\\r\u001b[39;00m\u001b[38;5;124m\"\u001b[39m, final_dir, score, end\u001b[38;5;241m=\u001b[39m\u001b[38;5;124m\"\u001b[39m\u001b[38;5;124m\"\u001b[39m)\n",
      "Cell \u001b[1;32mIn[51], line 29\u001b[0m, in \u001b[0;36mget_tile_array\u001b[1;34m(tile_xpos, tile_ypos)\u001b[0m\n\u001b[0;32m     27\u001b[0m \u001b[38;5;28;01mfor\u001b[39;00m jj \u001b[38;5;129;01min\u001b[39;00m \u001b[38;5;28mrange\u001b[39m(\u001b[38;5;241m4\u001b[39m):\n\u001b[0;32m     28\u001b[0m     \u001b[38;5;28;01mwith\u001b[39;00m mss\u001b[38;5;241m.\u001b[39mmss() \u001b[38;5;28;01mas\u001b[39;00m sct:\n\u001b[1;32m---> 29\u001b[0m         color \u001b[38;5;241m=\u001b[39m np\u001b[38;5;241m.\u001b[39marray(\u001b[43msct\u001b[49m\u001b[38;5;241;43m.\u001b[39;49m\u001b[43mgrab\u001b[49m\u001b[43m(\u001b[49m\n\u001b[0;32m     30\u001b[0m \u001b[43m            \u001b[49m\u001b[43m{\u001b[49m\u001b[38;5;124;43m'\u001b[39;49m\u001b[38;5;124;43mleft\u001b[39;49m\u001b[38;5;124;43m'\u001b[39;49m\u001b[43m:\u001b[49m\u001b[43mtile_xpos\u001b[49m\u001b[43m[\u001b[49m\u001b[43mii\u001b[49m\u001b[43m]\u001b[49m\u001b[43m,\u001b[49m\u001b[43m \u001b[49m\u001b[38;5;124;43m'\u001b[39;49m\u001b[38;5;124;43mtop\u001b[39;49m\u001b[38;5;124;43m'\u001b[39;49m\u001b[43m:\u001b[49m\u001b[43mtile_ypos\u001b[49m\u001b[43m[\u001b[49m\u001b[43mjj\u001b[49m\u001b[43m]\u001b[49m\u001b[43m,\u001b[49m\u001b[43m \u001b[49m\n\u001b[0;32m     31\u001b[0m \u001b[43m             \u001b[49m\u001b[38;5;124;43m'\u001b[39;49m\u001b[38;5;124;43mwidth\u001b[39;49m\u001b[38;5;124;43m'\u001b[39;49m\u001b[43m:\u001b[49m\u001b[38;5;241;43m1\u001b[39;49m\u001b[43m,\u001b[49m\u001b[43m \u001b[49m\u001b[38;5;124;43m'\u001b[39;49m\u001b[38;5;124;43mheight\u001b[39;49m\u001b[38;5;124;43m'\u001b[39;49m\u001b[43m:\u001b[49m\u001b[38;5;241;43m1\u001b[39;49m\u001b[43m}\u001b[49m\u001b[43m)\u001b[49m)[:, :, :\u001b[38;5;241m3\u001b[39m]\n\u001b[0;32m     32\u001b[0m         \u001b[38;5;28;01mpass\u001b[39;00m\n\u001b[0;32m     33\u001b[0m     \u001b[38;5;66;03m# print(color)\u001b[39;00m\n",
      "File \u001b[1;32m~\\miniforge3\\Lib\\site-packages\\mss\\base.py:97\u001b[0m, in \u001b[0;36mMSSBase.grab\u001b[1;34m(self, monitor)\u001b[0m\n\u001b[0;32m     89\u001b[0m     monitor \u001b[38;5;241m=\u001b[39m {\n\u001b[0;32m     90\u001b[0m         \u001b[38;5;124m\"\u001b[39m\u001b[38;5;124mleft\u001b[39m\u001b[38;5;124m\"\u001b[39m: monitor[\u001b[38;5;241m0\u001b[39m],\n\u001b[0;32m     91\u001b[0m         \u001b[38;5;124m\"\u001b[39m\u001b[38;5;124mtop\u001b[39m\u001b[38;5;124m\"\u001b[39m: monitor[\u001b[38;5;241m1\u001b[39m],\n\u001b[0;32m     92\u001b[0m         \u001b[38;5;124m\"\u001b[39m\u001b[38;5;124mwidth\u001b[39m\u001b[38;5;124m\"\u001b[39m: monitor[\u001b[38;5;241m2\u001b[39m] \u001b[38;5;241m-\u001b[39m monitor[\u001b[38;5;241m0\u001b[39m],\n\u001b[0;32m     93\u001b[0m         \u001b[38;5;124m\"\u001b[39m\u001b[38;5;124mheight\u001b[39m\u001b[38;5;124m\"\u001b[39m: monitor[\u001b[38;5;241m3\u001b[39m] \u001b[38;5;241m-\u001b[39m monitor[\u001b[38;5;241m1\u001b[39m],\n\u001b[0;32m     94\u001b[0m     }\n\u001b[0;32m     96\u001b[0m \u001b[38;5;28;01mwith\u001b[39;00m lock:\n\u001b[1;32m---> 97\u001b[0m     screenshot \u001b[38;5;241m=\u001b[39m \u001b[38;5;28;43mself\u001b[39;49m\u001b[38;5;241;43m.\u001b[39;49m\u001b[43m_grab_impl\u001b[49m\u001b[43m(\u001b[49m\u001b[43mmonitor\u001b[49m\u001b[43m)\u001b[49m\n\u001b[0;32m     98\u001b[0m     \u001b[38;5;28;01mif\u001b[39;00m \u001b[38;5;28mself\u001b[39m\u001b[38;5;241m.\u001b[39mwith_cursor \u001b[38;5;129;01mand\u001b[39;00m (cursor \u001b[38;5;241m:=\u001b[39m \u001b[38;5;28mself\u001b[39m\u001b[38;5;241m.\u001b[39m_cursor_impl()):\n\u001b[0;32m     99\u001b[0m         \u001b[38;5;28;01mreturn\u001b[39;00m \u001b[38;5;28mself\u001b[39m\u001b[38;5;241m.\u001b[39m_merge(screenshot, cursor)\n",
      "File \u001b[1;32m~\\miniforge3\\Lib\\site-packages\\mss\\windows.py:241\u001b[0m, in \u001b[0;36mMSS._grab_impl\u001b[1;34m(self, monitor)\u001b[0m\n\u001b[0;32m    238\u001b[0m     \u001b[38;5;28mself\u001b[39m\u001b[38;5;241m.\u001b[39m_handles\u001b[38;5;241m.\u001b[39mbmp \u001b[38;5;241m=\u001b[39m gdi\u001b[38;5;241m.\u001b[39mCreateCompatibleBitmap(srcdc, width, height)\n\u001b[0;32m    239\u001b[0m     gdi\u001b[38;5;241m.\u001b[39mSelectObject(memdc, \u001b[38;5;28mself\u001b[39m\u001b[38;5;241m.\u001b[39m_handles\u001b[38;5;241m.\u001b[39mbmp)\n\u001b[1;32m--> 241\u001b[0m \u001b[43mgdi\u001b[49m\u001b[38;5;241;43m.\u001b[39;49m\u001b[43mBitBlt\u001b[49m\u001b[43m(\u001b[49m\u001b[43mmemdc\u001b[49m\u001b[43m,\u001b[49m\u001b[43m \u001b[49m\u001b[38;5;241;43m0\u001b[39;49m\u001b[43m,\u001b[49m\u001b[43m \u001b[49m\u001b[38;5;241;43m0\u001b[39;49m\u001b[43m,\u001b[49m\u001b[43m \u001b[49m\u001b[43mwidth\u001b[49m\u001b[43m,\u001b[49m\u001b[43m \u001b[49m\u001b[43mheight\u001b[49m\u001b[43m,\u001b[49m\u001b[43m \u001b[49m\u001b[43msrcdc\u001b[49m\u001b[43m,\u001b[49m\u001b[43m \u001b[49m\u001b[43mmonitor\u001b[49m\u001b[43m[\u001b[49m\u001b[38;5;124;43m\"\u001b[39;49m\u001b[38;5;124;43mleft\u001b[39;49m\u001b[38;5;124;43m\"\u001b[39;49m\u001b[43m]\u001b[49m\u001b[43m,\u001b[49m\u001b[43m \u001b[49m\u001b[43mmonitor\u001b[49m\u001b[43m[\u001b[49m\u001b[38;5;124;43m\"\u001b[39;49m\u001b[38;5;124;43mtop\u001b[39;49m\u001b[38;5;124;43m\"\u001b[39;49m\u001b[43m]\u001b[49m\u001b[43m,\u001b[49m\u001b[43m \u001b[49m\u001b[43mSRCCOPY\u001b[49m\u001b[43m \u001b[49m\u001b[38;5;241;43m|\u001b[39;49m\u001b[43m \u001b[49m\u001b[43mCAPTUREBLT\u001b[49m\u001b[43m)\u001b[49m\n\u001b[0;32m    242\u001b[0m bits \u001b[38;5;241m=\u001b[39m gdi\u001b[38;5;241m.\u001b[39mGetDIBits(memdc, \u001b[38;5;28mself\u001b[39m\u001b[38;5;241m.\u001b[39m_handles\u001b[38;5;241m.\u001b[39mbmp, \u001b[38;5;241m0\u001b[39m, height, \u001b[38;5;28mself\u001b[39m\u001b[38;5;241m.\u001b[39m_handles\u001b[38;5;241m.\u001b[39mdata, \u001b[38;5;28mself\u001b[39m\u001b[38;5;241m.\u001b[39m_handles\u001b[38;5;241m.\u001b[39mbmi, DIB_RGB_COLORS)\n\u001b[0;32m    243\u001b[0m \u001b[38;5;28;01mif\u001b[39;00m bits \u001b[38;5;241m!=\u001b[39m height:\n",
      "\u001b[1;31mKeyboardInterrupt\u001b[0m: "
     ]
    }
   ],
   "source": [
    "while True:\n",
    "    tile_array = get_tile_array(tile_xpos, tile_ypos)\n",
    "    final_dir, score = find_direct(tile_array, 0)\n",
    "    print(\"\\r\", final_dir, score, end=\"\")\n",
    "    # time.sleep(0)"
   ]
  },
  {
   "cell_type": "code",
   "execution_count": 10,
   "id": "705d6f5f-9a0b-4b11-baea-287759b4aaa8",
   "metadata": {},
   "outputs": [
    {
     "name": "stdout",
     "output_type": "stream",
     "text": [
      "a\n",
      "a\n",
      "a\n"
     ]
    },
    {
     "data": {
      "text/plain": [
       "('down', 0)"
      ]
     },
     "execution_count": 10,
     "metadata": {},
     "output_type": "execute_result"
    }
   ],
   "source": [
    "tile_array = np.array([[3, 2, 2, 4], \n",
    "                       [1, 2, 2, 0], \n",
    "                       [0, 0, 0, 0], \n",
    "                       [1, 1, 0, 0]])\n",
    "tile_array = get_tile_array(tile_xpos, tile_ypos)\n",
    "final_dir, score = find_direct(tile_array, 0)   \n",
    "final_dir, score"
   ]
  },
  {
   "cell_type": "code",
   "execution_count": 49,
   "id": "02eb1df7-f44c-4163-8d3f-9973adadd1e1",
   "metadata": {},
   "outputs": [
    {
     "data": {
      "text/plain": [
       "np.float64(532990.0)"
      ]
     },
     "execution_count": 49,
     "metadata": {},
     "output_type": "execute_result"
    }
   ],
   "source": [
    "evaluation(after_moving(tile_array, 'up'), table)"
   ]
  },
  {
   "cell_type": "code",
   "execution_count": 50,
   "id": "0fb890f9-c274-4577-8aa6-423f8fca9e28",
   "metadata": {},
   "outputs": [
    {
     "data": {
      "text/plain": [
       "np.float64(543744.0)"
      ]
     },
     "execution_count": 50,
     "metadata": {},
     "output_type": "execute_result"
    }
   ],
   "source": [
    "evaluation(after_moving(tile_array, 'left'), table)"
   ]
  },
  {
   "cell_type": "code",
   "execution_count": 61,
   "id": "2480ad7f-7f03-4311-bb48-56e5dd2df1aa",
   "metadata": {},
   "outputs": [
    {
     "data": {
      "text/plain": [
       "array([[5., 7., 6., 5.],\n",
       "       [2., 5., 3., 6.],\n",
       "       [1., 3., 1., 2.],\n",
       "       [0., 0., 0., 0.]])"
      ]
     },
     "execution_count": 61,
     "metadata": {},
     "output_type": "execute_result"
    }
   ],
   "source": [
    "get_tile_array(tile_xpos, tile_ypos)"
   ]
  },
  {
   "cell_type": "code",
   "execution_count": 62,
   "id": "1c0c934c-af9f-4f43-981f-1991288adfbd",
   "metadata": {},
   "outputs": [
    {
     "data": {
      "text/plain": [
       "'up'"
      ]
     },
     "execution_count": 62,
     "metadata": {},
     "output_type": "execute_result"
    }
   ],
   "source": [
    "final_dir"
   ]
  },
  {
   "cell_type": "code",
   "execution_count": 64,
   "id": "cef1fd32-8d8c-4e67-8bb0-9294ff7fec69",
   "metadata": {},
   "outputs": [
    {
     "name": "stdout",
     "output_type": "stream",
     "text": [
      "up 367.0\n",
      "down -198.0\n",
      "left 97.0\n",
      "right 72.0\n"
     ]
    }
   ],
   "source": [
    "for try_dir in ['up', 'down', 'left', 'right']:\n",
    "    after = after_moving(tile_array, direction=try_dir)\n",
    "    if (after == tile_array).all(): continue\n",
    "    new_score = evaluation(after, table)\n",
    "    print(try_dir, new_score)\n",
    "    if score < new_score: \n",
    "        score = new_score\n",
    "        final_dir = try_dir"
   ]
  },
  {
   "cell_type": "code",
   "execution_count": null,
   "id": "957d3351-fafc-4a4f-b33c-00353f46afda",
   "metadata": {},
   "outputs": [],
   "source": []
  },
  {
   "cell_type": "code",
   "execution_count": 39,
   "id": "87ceb20d-5999-45d5-82ba-e8a7a255da8c",
   "metadata": {
    "collapsed": true,
    "jupyter": {
     "outputs_hidden": true
    },
    "scrolled": true
   },
   "outputs": [
    {
     "name": "stdout",
     "output_type": "stream",
     "text": [
      "right"
     ]
    },
    {
     "name": "stdin",
     "output_type": "stream",
     "text": [
      "press \n"
     ]
    },
    {
     "name": "stdout",
     "output_type": "stream",
     "text": [
      "down"
     ]
    },
    {
     "name": "stdin",
     "output_type": "stream",
     "text": [
      "press q\n"
     ]
    },
    {
     "name": "stdout",
     "output_type": "stream",
     "text": [
      "up"
     ]
    },
    {
     "name": "stdin",
     "output_type": "stream",
     "text": [
      "press ased\n"
     ]
    },
    {
     "name": "stdout",
     "output_type": "stream",
     "text": [
      "up"
     ]
    },
    {
     "ename": "KeyboardInterrupt",
     "evalue": "Interrupted by user",
     "output_type": "error",
     "traceback": [
      "\u001b[1;31m---------------------------------------------------------------------------\u001b[0m",
      "\u001b[1;31mKeyboardInterrupt\u001b[0m                         Traceback (most recent call last)",
      "Cell \u001b[1;32mIn[39], line 14\u001b[0m\n\u001b[0;32m     12\u001b[0m final_dir, score \u001b[38;5;241m=\u001b[39m find_direct(tile_array, \u001b[38;5;241m0\u001b[39m)\n\u001b[0;32m     13\u001b[0m \u001b[38;5;28mprint\u001b[39m(final_dir, end\u001b[38;5;241m=\u001b[39m\u001b[38;5;124m'\u001b[39m\u001b[38;5;130;01m\\r\u001b[39;00m\u001b[38;5;124m'\u001b[39m)\n\u001b[1;32m---> 14\u001b[0m \u001b[38;5;28;43minput\u001b[39;49m\u001b[43m(\u001b[49m\u001b[38;5;124;43m\"\u001b[39;49m\u001b[38;5;124;43mpress\u001b[39;49m\u001b[38;5;124;43m\"\u001b[39;49m\u001b[43m)\u001b[49m\n\u001b[0;32m     15\u001b[0m drag(final_dir)\n",
      "File \u001b[1;32m~\\miniforge3\\Lib\\site-packages\\ipykernel\\kernelbase.py:1282\u001b[0m, in \u001b[0;36mKernel.raw_input\u001b[1;34m(self, prompt)\u001b[0m\n\u001b[0;32m   1280\u001b[0m     msg \u001b[38;5;241m=\u001b[39m \u001b[38;5;124m\"\u001b[39m\u001b[38;5;124mraw_input was called, but this frontend does not support input requests.\u001b[39m\u001b[38;5;124m\"\u001b[39m\n\u001b[0;32m   1281\u001b[0m     \u001b[38;5;28;01mraise\u001b[39;00m StdinNotImplementedError(msg)\n\u001b[1;32m-> 1282\u001b[0m \u001b[38;5;28;01mreturn\u001b[39;00m \u001b[38;5;28;43mself\u001b[39;49m\u001b[38;5;241;43m.\u001b[39;49m\u001b[43m_input_request\u001b[49m\u001b[43m(\u001b[49m\n\u001b[0;32m   1283\u001b[0m \u001b[43m    \u001b[49m\u001b[38;5;28;43mstr\u001b[39;49m\u001b[43m(\u001b[49m\u001b[43mprompt\u001b[49m\u001b[43m)\u001b[49m\u001b[43m,\u001b[49m\n\u001b[0;32m   1284\u001b[0m \u001b[43m    \u001b[49m\u001b[38;5;28;43mself\u001b[39;49m\u001b[38;5;241;43m.\u001b[39;49m\u001b[43m_parent_ident\u001b[49m\u001b[43m[\u001b[49m\u001b[38;5;124;43m\"\u001b[39;49m\u001b[38;5;124;43mshell\u001b[39;49m\u001b[38;5;124;43m\"\u001b[39;49m\u001b[43m]\u001b[49m\u001b[43m,\u001b[49m\n\u001b[0;32m   1285\u001b[0m \u001b[43m    \u001b[49m\u001b[38;5;28;43mself\u001b[39;49m\u001b[38;5;241;43m.\u001b[39;49m\u001b[43mget_parent\u001b[49m\u001b[43m(\u001b[49m\u001b[38;5;124;43m\"\u001b[39;49m\u001b[38;5;124;43mshell\u001b[39;49m\u001b[38;5;124;43m\"\u001b[39;49m\u001b[43m)\u001b[49m\u001b[43m,\u001b[49m\n\u001b[0;32m   1286\u001b[0m \u001b[43m    \u001b[49m\u001b[43mpassword\u001b[49m\u001b[38;5;241;43m=\u001b[39;49m\u001b[38;5;28;43;01mFalse\u001b[39;49;00m\u001b[43m,\u001b[49m\n\u001b[0;32m   1287\u001b[0m \u001b[43m\u001b[49m\u001b[43m)\u001b[49m\n",
      "File \u001b[1;32m~\\miniforge3\\Lib\\site-packages\\ipykernel\\kernelbase.py:1325\u001b[0m, in \u001b[0;36mKernel._input_request\u001b[1;34m(self, prompt, ident, parent, password)\u001b[0m\n\u001b[0;32m   1322\u001b[0m \u001b[38;5;28;01mexcept\u001b[39;00m \u001b[38;5;167;01mKeyboardInterrupt\u001b[39;00m:\n\u001b[0;32m   1323\u001b[0m     \u001b[38;5;66;03m# re-raise KeyboardInterrupt, to truncate traceback\u001b[39;00m\n\u001b[0;32m   1324\u001b[0m     msg \u001b[38;5;241m=\u001b[39m \u001b[38;5;124m\"\u001b[39m\u001b[38;5;124mInterrupted by user\u001b[39m\u001b[38;5;124m\"\u001b[39m\n\u001b[1;32m-> 1325\u001b[0m     \u001b[38;5;28;01mraise\u001b[39;00m \u001b[38;5;167;01mKeyboardInterrupt\u001b[39;00m(msg) \u001b[38;5;28;01mfrom\u001b[39;00m \u001b[38;5;28;01mNone\u001b[39;00m\n\u001b[0;32m   1326\u001b[0m \u001b[38;5;28;01mexcept\u001b[39;00m \u001b[38;5;167;01mException\u001b[39;00m:\n\u001b[0;32m   1327\u001b[0m     \u001b[38;5;28mself\u001b[39m\u001b[38;5;241m.\u001b[39mlog\u001b[38;5;241m.\u001b[39mwarning(\u001b[38;5;124m\"\u001b[39m\u001b[38;5;124mInvalid Message:\u001b[39m\u001b[38;5;124m\"\u001b[39m, exc_info\u001b[38;5;241m=\u001b[39m\u001b[38;5;28;01mTrue\u001b[39;00m)\n",
      "\u001b[1;31mKeyboardInterrupt\u001b[0m: Interrupted by user"
     ]
    }
   ],
   "source": [
    "mode = 'challenge'\n",
    "mode = 'practice'\n",
    "start_pos = challenge_mode_pos if mode =='challenge' else practice_mode_pos\n",
    "pag.click(x = start_pos[0], y = start_pos[1])\n",
    "time.sleep(2)\n",
    "n = 0\n",
    "tile_array = np.zeros((4, 4))\n",
    "while True:\n",
    "    # try:\n",
    "    tile_array = get_tile_array(tile_xpos, tile_ypos)\n",
    "    final_dir = None\n",
    "    final_dir, score = find_direct(tile_array, 0)\n",
    "    drag(final_dir)"
   ]
  },
  {
   "cell_type": "code",
   "execution_count": 93,
   "id": "a52120b2-c699-41f6-8768-8e4426016726",
   "metadata": {
    "collapsed": true,
    "jupyter": {
     "outputs_hidden": true
    },
    "scrolled": true
   },
   "outputs": [
    {
     "ename": "FailSafeException",
     "evalue": "PyAutoGUI fail-safe triggered from mouse moving to a corner of the screen. To disable this fail-safe, set pyautogui.FAILSAFE to False. DISABLING FAIL-SAFE IS NOT RECOMMENDED.",
     "output_type": "error",
     "traceback": [
      "\u001b[1;31m---------------------------------------------------------------------------\u001b[0m",
      "\u001b[1;31mFailSafeException\u001b[0m                         Traceback (most recent call last)",
      "Cell \u001b[1;32mIn[93], line 22\u001b[0m\n\u001b[0;32m     20\u001b[0m             final_dir \u001b[38;5;241m=\u001b[39m try_dir\n\u001b[0;32m     21\u001b[0m     \u001b[38;5;28;01mif\u001b[39;00m final_dir \u001b[38;5;241m==\u001b[39m \u001b[38;5;28;01mNone\u001b[39;00m: final_dir \u001b[38;5;241m=\u001b[39m \u001b[38;5;124m'\u001b[39m\u001b[38;5;124mdown\u001b[39m\u001b[38;5;124m'\u001b[39m\n\u001b[1;32m---> 22\u001b[0m     \u001b[43mdrag\u001b[49m\u001b[43m(\u001b[49m\u001b[43mfinal_dir\u001b[49m\u001b[43m)\u001b[49m\n\u001b[0;32m     23\u001b[0m     \u001b[38;5;66;03m# print(n, final_dir)\u001b[39;00m\n\u001b[0;32m     24\u001b[0m     \u001b[38;5;66;03m# time.sleep(0.1)\u001b[39;00m\n\u001b[0;32m     25\u001b[0m \u001b[38;5;66;03m# except:\u001b[39;00m\n\u001b[0;32m     26\u001b[0m     \u001b[38;5;66;03m#     print(tile_array)\u001b[39;00m\n\u001b[0;32m     27\u001b[0m     \u001b[38;5;66;03m#     print(final_dir)\u001b[39;00m\n\u001b[0;32m     28\u001b[0m     \u001b[38;5;66;03m# break\u001b[39;00m\n",
      "Cell \u001b[1;32mIn[89], line 74\u001b[0m, in \u001b[0;36mdrag\u001b[1;34m(direction, delay)\u001b[0m\n\u001b[0;32m     72\u001b[0m pag\u001b[38;5;241m.\u001b[39mmoveTo(\u001b[38;5;241m220\u001b[39m, \u001b[38;5;241m779\u001b[39m)\n\u001b[0;32m     73\u001b[0m delta \u001b[38;5;241m=\u001b[39m \u001b[38;5;241m50\u001b[39m\n\u001b[1;32m---> 74\u001b[0m \u001b[38;5;28;01mif\u001b[39;00m direction\u001b[38;5;241m==\u001b[39m\u001b[38;5;124m'\u001b[39m\u001b[38;5;124mup\u001b[39m\u001b[38;5;124m'\u001b[39m: \u001b[43mpag\u001b[49m\u001b[38;5;241;43m.\u001b[39;49m\u001b[43mdrag\u001b[49m\u001b[43m(\u001b[49m\u001b[38;5;241;43m0\u001b[39;49m\u001b[43m,\u001b[49m\u001b[43m \u001b[49m\u001b[38;5;241;43m-\u001b[39;49m\u001b[43mdelta\u001b[49m\u001b[43m,\u001b[49m\u001b[43m \u001b[49m\u001b[43mdelay\u001b[49m\u001b[43m,\u001b[49m\u001b[43m \u001b[49m\u001b[43mbutton\u001b[49m\u001b[38;5;241;43m=\u001b[39;49m\u001b[38;5;124;43m'\u001b[39;49m\u001b[38;5;124;43mleft\u001b[39;49m\u001b[38;5;124;43m'\u001b[39;49m\u001b[43m)\u001b[49m\n\u001b[0;32m     75\u001b[0m \u001b[38;5;28;01mif\u001b[39;00m direction\u001b[38;5;241m==\u001b[39m\u001b[38;5;124m'\u001b[39m\u001b[38;5;124mdown\u001b[39m\u001b[38;5;124m'\u001b[39m: pag\u001b[38;5;241m.\u001b[39mdrag(\u001b[38;5;241m0\u001b[39m, delta, delay, button\u001b[38;5;241m=\u001b[39m\u001b[38;5;124m'\u001b[39m\u001b[38;5;124mleft\u001b[39m\u001b[38;5;124m'\u001b[39m)    \n\u001b[0;32m     76\u001b[0m \u001b[38;5;28;01mif\u001b[39;00m direction\u001b[38;5;241m==\u001b[39m\u001b[38;5;124m'\u001b[39m\u001b[38;5;124mright\u001b[39m\u001b[38;5;124m'\u001b[39m: pag\u001b[38;5;241m.\u001b[39mdrag(delta, \u001b[38;5;241m0\u001b[39m, delay, button\u001b[38;5;241m=\u001b[39m\u001b[38;5;124m'\u001b[39m\u001b[38;5;124mleft\u001b[39m\u001b[38;5;124m'\u001b[39m)\n",
      "File \u001b[1;32m~\\miniforge3\\Lib\\site-packages\\pyautogui\\__init__.py:594\u001b[0m, in \u001b[0;36m_genericPyAutoGUIChecks.<locals>.wrapper\u001b[1;34m(*args, **kwargs)\u001b[0m\n\u001b[0;32m    591\u001b[0m \u001b[38;5;129m@functools\u001b[39m\u001b[38;5;241m.\u001b[39mwraps(wrappedFunction)\n\u001b[0;32m    592\u001b[0m \u001b[38;5;28;01mdef\u001b[39;00m \u001b[38;5;21mwrapper\u001b[39m(\u001b[38;5;241m*\u001b[39margs, \u001b[38;5;241m*\u001b[39m\u001b[38;5;241m*\u001b[39mkwargs):\n\u001b[0;32m    593\u001b[0m     failSafeCheck()\n\u001b[1;32m--> 594\u001b[0m     returnVal \u001b[38;5;241m=\u001b[39m \u001b[43mwrappedFunction\u001b[49m\u001b[43m(\u001b[49m\u001b[38;5;241;43m*\u001b[39;49m\u001b[43margs\u001b[49m\u001b[43m,\u001b[49m\u001b[43m \u001b[49m\u001b[38;5;241;43m*\u001b[39;49m\u001b[38;5;241;43m*\u001b[39;49m\u001b[43mkwargs\u001b[49m\u001b[43m)\u001b[49m\n\u001b[0;32m    595\u001b[0m     _handlePause(kwargs\u001b[38;5;241m.\u001b[39mget(\u001b[38;5;124m\"\u001b[39m\u001b[38;5;124m_pause\u001b[39m\u001b[38;5;124m\"\u001b[39m, \u001b[38;5;28;01mTrue\u001b[39;00m))\n\u001b[0;32m    596\u001b[0m     \u001b[38;5;28;01mreturn\u001b[39;00m returnVal\n",
      "File \u001b[1;32m~\\miniforge3\\Lib\\site-packages\\pyautogui\\__init__.py:1409\u001b[0m, in \u001b[0;36mdragRel\u001b[1;34m(xOffset, yOffset, duration, tween, button, logScreenshot, _pause, mouseDownUp)\u001b[0m\n\u001b[0;32m   1407\u001b[0m \u001b[38;5;28;01mif\u001b[39;00m mouseDownUp:\n\u001b[0;32m   1408\u001b[0m     mouseDown(button\u001b[38;5;241m=\u001b[39mbutton, logScreenshot\u001b[38;5;241m=\u001b[39m\u001b[38;5;28;01mFalse\u001b[39;00m, _pause\u001b[38;5;241m=\u001b[39m\u001b[38;5;28;01mFalse\u001b[39;00m)\n\u001b[1;32m-> 1409\u001b[0m \u001b[43m_mouseMoveDrag\u001b[49m\u001b[43m(\u001b[49m\u001b[38;5;124;43m\"\u001b[39;49m\u001b[38;5;124;43mdrag\u001b[39;49m\u001b[38;5;124;43m\"\u001b[39;49m\u001b[43m,\u001b[49m\u001b[43m \u001b[49m\u001b[43mmousex\u001b[49m\u001b[43m,\u001b[49m\u001b[43m \u001b[49m\u001b[43mmousey\u001b[49m\u001b[43m,\u001b[49m\u001b[43m \u001b[49m\u001b[43mxOffset\u001b[49m\u001b[43m,\u001b[49m\u001b[43m \u001b[49m\u001b[43myOffset\u001b[49m\u001b[43m,\u001b[49m\u001b[43m \u001b[49m\u001b[43mduration\u001b[49m\u001b[43m,\u001b[49m\u001b[43m \u001b[49m\u001b[43mtween\u001b[49m\u001b[43m,\u001b[49m\u001b[43m \u001b[49m\u001b[43mbutton\u001b[49m\u001b[43m)\u001b[49m\n\u001b[0;32m   1410\u001b[0m \u001b[38;5;28;01mif\u001b[39;00m mouseDownUp:\n\u001b[0;32m   1411\u001b[0m     mouseUp(button\u001b[38;5;241m=\u001b[39mbutton, logScreenshot\u001b[38;5;241m=\u001b[39m\u001b[38;5;28;01mFalse\u001b[39;00m, _pause\u001b[38;5;241m=\u001b[39m\u001b[38;5;28;01mFalse\u001b[39;00m)\n",
      "File \u001b[1;32m~\\miniforge3\\Lib\\site-packages\\pyautogui\\__init__.py:1504\u001b[0m, in \u001b[0;36m_mouseMoveDrag\u001b[1;34m(moveOrDrag, x, y, xOffset, yOffset, duration, tween, button)\u001b[0m\n\u001b[0;32m   1500\u001b[0m \u001b[38;5;66;03m# Do a fail-safe check to see if the user moved the mouse to a fail-safe position, but not if the mouse cursor\u001b[39;00m\n\u001b[0;32m   1501\u001b[0m \u001b[38;5;66;03m# moved there as a result of this function. (Just because tweenX and tweenY aren't in a fail-safe position\u001b[39;00m\n\u001b[0;32m   1502\u001b[0m \u001b[38;5;66;03m# doesn't mean the user couldn't have moved the mouse cursor to a fail-safe position.)\u001b[39;00m\n\u001b[0;32m   1503\u001b[0m \u001b[38;5;28;01mif\u001b[39;00m (tweenX, tweenY) \u001b[38;5;129;01mnot\u001b[39;00m \u001b[38;5;129;01min\u001b[39;00m FAILSAFE_POINTS:\n\u001b[1;32m-> 1504\u001b[0m     \u001b[43mfailSafeCheck\u001b[49m\u001b[43m(\u001b[49m\u001b[43m)\u001b[49m\n\u001b[0;32m   1506\u001b[0m \u001b[38;5;28;01mif\u001b[39;00m moveOrDrag \u001b[38;5;241m==\u001b[39m \u001b[38;5;124m\"\u001b[39m\u001b[38;5;124mmove\u001b[39m\u001b[38;5;124m\"\u001b[39m:\n\u001b[0;32m   1507\u001b[0m     platformModule\u001b[38;5;241m.\u001b[39m_moveTo(tweenX, tweenY)\n",
      "File \u001b[1;32m~\\miniforge3\\Lib\\site-packages\\pyautogui\\__init__.py:1734\u001b[0m, in \u001b[0;36mfailSafeCheck\u001b[1;34m()\u001b[0m\n\u001b[0;32m   1732\u001b[0m \u001b[38;5;28;01mdef\u001b[39;00m \u001b[38;5;21mfailSafeCheck\u001b[39m():\n\u001b[0;32m   1733\u001b[0m     \u001b[38;5;28;01mif\u001b[39;00m FAILSAFE \u001b[38;5;129;01mand\u001b[39;00m \u001b[38;5;28mtuple\u001b[39m(position()) \u001b[38;5;129;01min\u001b[39;00m FAILSAFE_POINTS:\n\u001b[1;32m-> 1734\u001b[0m         \u001b[38;5;28;01mraise\u001b[39;00m FailSafeException(\n\u001b[0;32m   1735\u001b[0m             \u001b[38;5;124m\"\u001b[39m\u001b[38;5;124mPyAutoGUI fail-safe triggered from mouse moving to a corner of the screen. To disable this fail-safe, set pyautogui.FAILSAFE to False. DISABLING FAIL-SAFE IS NOT RECOMMENDED.\u001b[39m\u001b[38;5;124m\"\u001b[39m\n\u001b[0;32m   1736\u001b[0m         )\n",
      "\u001b[1;31mFailSafeException\u001b[0m: PyAutoGUI fail-safe triggered from mouse moving to a corner of the screen. To disable this fail-safe, set pyautogui.FAILSAFE to False. DISABLING FAIL-SAFE IS NOT RECOMMENDED."
     ]
    }
   ],
   "source": [
    "mode = 'challenge'\n",
    "mode = 'practice'\n",
    "start_pos = challenge_mode_pos if mode =='challenge' else practice_mode_pos\n",
    "pag.click(x = start_pos[0], y = start_pos[1])\n",
    "time.sleep(2)\n",
    "n = 0\n",
    "tile_array = np.zeros((4, 4))\n",
    "while True:\n",
    "    # try:\n",
    "    tile_array = get_tile_array(tile_xpos, tile_ypos)\n",
    "    final_dir = None\n",
    "    score = 0\n",
    "    # for try_dir in ['up', 'down', 'left', 'right']:\n",
    "    for try_dir in ['up', 'left', 'right']:\n",
    "        after = after_moving(tile_array, direction=try_dir)\n",
    "        if (after == tile_array).all(): continue\n",
    "        new_score = evaluation(after, table)\n",
    "        if score < new_score: \n",
    "            score = new_score\n",
    "            final_dir = try_dir\n",
    "    if final_dir == None: final_dir = 'down'\n",
    "    drag(final_dir)\n",
    "    # print(n, final_dir)\n",
    "    # time.sleep(0.1)\n",
    "# except:\n",
    "    #     print(tile_array)\n",
    "    #     print(final_dir)\n",
    "    # break"
   ]
  }
 ],
 "metadata": {
  "kernelspec": {
   "display_name": "Python 3 (ipykernel)",
   "language": "python",
   "name": "python3"
  },
  "language_info": {
   "codemirror_mode": {
    "name": "ipython",
    "version": 3
   },
   "file_extension": ".py",
   "mimetype": "text/x-python",
   "name": "python",
   "nbconvert_exporter": "python",
   "pygments_lexer": "ipython3",
   "version": "3.12.7"
  }
 },
 "nbformat": 4,
 "nbformat_minor": 5
}
