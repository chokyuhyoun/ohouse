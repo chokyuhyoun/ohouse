{
 "cells": [
  {
   "cell_type": "code",
   "execution_count": 1,
   "id": "bbd626fa-cfcb-4ba2-8420-5c2d6aaba6f0",
   "metadata": {},
   "outputs": [],
   "source": [
    "import pyautogui as pag\n",
    "import numpy as np\n",
    "import mss, cv2, win32gui, win32ui, win32con, pdb, time\n",
    "import matplotlib.pyplot as plt\n",
    "import copy"
   ]
  },
  {
   "cell_type": "code",
   "execution_count": 370,
   "id": "030a5fa2-92b0-4359-be7d-b2ced9e9ae69",
   "metadata": {},
   "outputs": [
    {
     "name": "stdout",
     "output_type": "stream",
     "text": [
      "Point(x=250, y=835)\n"
     ]
    }
   ],
   "source": [
    "pos = pag.position()\n",
    "print(pos)"
   ]
  },
  {
   "cell_type": "code",
   "execution_count": 73,
   "id": "8dcf1017-75ce-4b5f-b027-35fe67cf6f79",
   "metadata": {},
   "outputs": [],
   "source": [
    "def check_num(color):\n",
    "    global color_list\n",
    "    color_list = np.array([[255, 246, 222], # 0 \n",
    "                           [255, 254, 255], # 2\n",
    "                           [255, 236, 170], # 4\n",
    "                           [255, 229, 143], # 8\n",
    "                           [255, 216,  87], # 16\n",
    "                           [241, 183,   0], # 32\n",
    "                           [204, 140,   1], # 64\n",
    "                           [ 60, 240, 141], # 128\n",
    "                           [ 32, 232, 109], # 256z\n",
    "                           [ 26, 222,  77], # 512\n",
    "                           [121, 225, 255], # 1024\n",
    "                           [ 13, 201, 255], # 2048 \n",
    "                           [  1, 151, 255]]) # 4096\n",
    "    color = color.flatten()\n",
    "    loc = np.argmin(np.sum((color_list - color)**2, axis=1))\n",
    "    return loc.item()\n",
    "\n",
    "def get_tile_array(tile_xpos, tile_ypos):\n",
    "    tile_array = np.zeros((4, 4))\n",
    "    for ii in range(4):\n",
    "        for jj in range(4):\n",
    "            with mss.mss() as sct:\n",
    "                color = np.array(sct.grab(\n",
    "                    {'left':tile_xpos[ii], 'top':tile_ypos[jj], \n",
    "                     'width':1, 'height':1}))[:, :, :3]\n",
    "                pass\n",
    "            # print(color)\n",
    "            tile_array[jj, ii] = check_num(color)\n",
    "    return tile_array\n",
    "\n",
    "def after_moving(tile_array, direction='up'):\n",
    "    if direction == 'up':\n",
    "        tile_array0 = copy.deepcopy(tile_array)\n",
    "    if direction == 'down':\n",
    "        tile_array0 = copy.deepcopy(tile_array[::-1])\n",
    "    if direction == 'right':\n",
    "        tile_array0 = copy.deepcopy(tile_array.T[::-1])\n",
    "    if direction == 'left':\n",
    "        tile_array0 = copy.deepcopy(tile_array.T)\n",
    "\n",
    "    templet = np.zeros((4, 4))\n",
    "    for i in range(4): # summing\n",
    "        part = tile_array0[:, i]\n",
    "        part0 = part[part > 0]\n",
    "        for j in range(len(part0)-1):\n",
    "            if part0[j] == part0[j+1]:\n",
    "                part0[j] += 1\n",
    "                part0[j+1] = 0\n",
    "        part1 = part0[part0 > 0]\n",
    "        templet[:len(part1), i] = part1\n",
    "\n",
    "    if direction == 'down':\n",
    "        templet = templet[::-1]\n",
    "    if direction == 'right':\n",
    "        templet = templet[::-1].T\n",
    "    if direction == 'left':\n",
    "        templet = templet.T\n",
    "    return templet\n",
    "\n",
    "def evaluation(after_tile_array, table):\n",
    "    # print(table)\n",
    "    dum = after_tile_array\n",
    "    # dum = np.where(after_tile_array==0, 2, after_tile_array)\n",
    "    return np.sum(table*(2**dum))\n",
    "\n",
    "def find_direct(tile_array, depth=3):\n",
    "    dir_order = ['left', 'up', 'right', 'down']\n",
    "    if (depth % 2) == 1:\n",
    "        score = np.zeros(len(dir_order))\n",
    "        for ii, try_dir in enumerate(dir_order):\n",
    "            after = after_moving(tile_array, direction=try_dir)\n",
    "            if (after == tile_array).all(): \n",
    "                continue\n",
    "            elif depth == 1:\n",
    "                score[ii] = evaluation(after, table)\n",
    "            else:\n",
    "                score[ii] = find_direct(after, depth=depth-1)\n",
    "        return dir_order[np.argmax(score)], np.max(score)    \n",
    "    else : #depth // 2 == 0:\n",
    "        empty = np.where(tile_array == 0)\n",
    "        dir_score = []\n",
    "        for ii in range(len(empty[0])):\n",
    "            # new_num = 1 if np.random.rand() <= 0.9 else 2\n",
    "            # tile_array[empty[0][ii], empty[1][ii]] = new_num\n",
    "            tile_array[empty[0][ii], empty[1][ii]] = 1\n",
    "            direct_sub, score_sub = find_direct(tile_array, depth-1)\n",
    "            dir_score.append(score_sub)\n",
    "        return np.mean(dir_score)\n",
    "\n",
    "def drag(direction, delay=1e-5):\n",
    "    delta = 30\n",
    "    pag.moveTo(220, 779)\n",
    "    if direction=='up': pag.drag(0, -delta, delay, button='left')\n",
    "    if direction=='down': pag.drag(0, delta, delay, button='left')    \n",
    "    if direction=='right': pag.drag(delta, 0, delay, button='left')\n",
    "    if direction=='left': pag.drag(-delta, 0, delay, button='left')"
   ]
  },
  {
   "cell_type": "code",
   "execution_count": 74,
   "id": "7a0b70c3-bbfd-4fef-ad8b-f8020af313ef",
   "metadata": {},
   "outputs": [],
   "source": [
    "challenge_mode_pos = [220, 719]\n",
    "practice_mode_pos = [220, 779]\n",
    "tile_xpos = np.arange(4)*100 + 50\n",
    "tile_ypos = np.arange(4, dtype=int)*100 + 550\n",
    "\n",
    "global table\n",
    "table0 = np.arange(4*4)[::-1].reshape(4, 4)\n",
    "table = 2.**(table0)\n",
    "# table = table0**2\n",
    "table[1] = table[1][::-1]\n",
    "table[3] = table[3][::-1]\n",
    "# table[0, 0] *= 2\n",
    "# table[0, 0] = table[0, 0]*1e4\n",
    "# table = table * 10**np.arange(4)[::-1, None]\n",
    "\n",
    "# table = np.array([[10,8,7,6.5],\n",
    "#  [.5,.7,1,3],\n",
    "#  [-.5,-1.5,-1.8,-2],\n",
    "#  [-3.8,-3.7,-3.5,-3]])\n",
    "\n",
    "# aa = 2**np.arange(4)[::-1]\n",
    "# table = aa*aa[:, None]"
   ]
  },
  {
   "cell_type": "code",
   "execution_count": null,
   "id": "8870be50-bb72-48fd-8f0f-406288cc803f",
   "metadata": {},
   "outputs": [],
   "source": [
    "mode = 'challenge'\n",
    "mode = 'practice'\n",
    "start_pos = challenge_mode_pos if mode =='challenge' else practice_mode_pos\n",
    "pag.click(x = start_pos[0], y = start_pos[1])\n",
    "time.sleep(2)\n",
    "while True:\n",
    "    tile_array = get_tile_array(tile_xpos, tile_ypos)\n",
    "    final_dir, score = find_direct(tile_array, depth = 3)\n",
    "    drag(final_dir)\n",
    "    # if (final_dir == 'right') and \\\n",
    "    #     ((after_moving(tile_array, 'right'))[0, 0] == 0):\n",
    "    #     drag('left')\n",
    "    # time.sleep(0.2)"
   ]
  },
  {
   "cell_type": "code",
   "execution_count": null,
   "id": "ae78817c-ac45-4ccd-aade-3b57e5a6907b",
   "metadata": {
    "scrolled": true
   },
   "outputs": [],
   "source": [
    "while True:\n",
    "    tile_array = get_tile_array(tile_xpos, tile_ypos)\n",
    "    final_dir, score = find_direct(tile_array, 0)\n",
    "    print(\"\\r\", final_dir, score, end=\"\")\n",
    "    # time.sleep(0)"
   ]
  },
  {
   "cell_type": "code",
   "execution_count": 63,
   "id": "705d6f5f-9a0b-4b11-baea-287759b4aaa8",
   "metadata": {},
   "outputs": [
    {
     "data": {
      "text/plain": [
       "('left', np.float64(0.0))"
      ]
     },
     "execution_count": 63,
     "metadata": {},
     "output_type": "execute_result"
    }
   ],
   "source": [
    "# tile_array = np.array([[3, 2, 2, 4], \n",
    "#                        [1, 2, 2, 0], \n",
    "#                        [0, 0, 0, 0], \n",
    "#                        [1, 1, 0, 0]])\n",
    "tile_array = get_tile_array(tile_xpos, tile_ypos)\n",
    "final_dir, score = find_direct(tile_array)   \n",
    "final_dir, score"
   ]
  },
  {
   "cell_type": "code",
   "execution_count": 69,
   "id": "0fb890f9-c274-4577-8aa6-423f8fca9e28",
   "metadata": {},
   "outputs": [
    {
     "data": {
      "text/plain": [
       "('left', np.float64(0.0))"
      ]
     },
     "execution_count": 69,
     "metadata": {},
     "output_type": "execute_result"
    }
   ],
   "source": [
    "find_direct(tile_array)"
   ]
  },
  {
   "cell_type": "code",
   "execution_count": 64,
   "id": "2480ad7f-7f03-4311-bb48-56e5dd2df1aa",
   "metadata": {},
   "outputs": [
    {
     "data": {
      "text/plain": [
       "array([[5., 8., 7., 5.],\n",
       "       [2., 4., 6., 4.],\n",
       "       [3., 2., 4., 1.],\n",
       "       [1., 3., 2., 1.]])"
      ]
     },
     "execution_count": 64,
     "metadata": {},
     "output_type": "execute_result"
    }
   ],
   "source": [
    "get_tile_array(tile_xpos, tile_ypos)"
   ]
  },
  {
   "cell_type": "code",
   "execution_count": 67,
   "id": "c109c7b4-d3ee-4238-956d-31b312eef655",
   "metadata": {},
   "outputs": [
    {
     "data": {
      "text/plain": [
       "array([[ True,  True,  True,  True],\n",
       "       [ True,  True,  True,  True],\n",
       "       [ True,  True,  True,  True],\n",
       "       [ True,  True,  True,  True]])"
      ]
     },
     "execution_count": 67,
     "metadata": {},
     "output_type": "execute_result"
    }
   ],
   "source": [
    "tile_array == after_moving(tile_array, 'left')"
   ]
  },
  {
   "cell_type": "code",
   "execution_count": null,
   "id": "45e714ad-f577-4d99-86c3-007f03e2782d",
   "metadata": {},
   "outputs": [],
   "source": []
  }
 ],
 "metadata": {
  "kernelspec": {
   "display_name": "Python 3 (ipykernel)",
   "language": "python",
   "name": "python3"
  },
  "language_info": {
   "codemirror_mode": {
    "name": "ipython",
    "version": 3
   },
   "file_extension": ".py",
   "mimetype": "text/x-python",
   "name": "python",
   "nbconvert_exporter": "python",
   "pygments_lexer": "ipython3",
   "version": "3.12.7"
  }
 },
 "nbformat": 4,
 "nbformat_minor": 5
}
